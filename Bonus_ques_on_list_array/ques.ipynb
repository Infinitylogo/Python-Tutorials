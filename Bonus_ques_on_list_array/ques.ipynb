{
 "cells": [
  {
   "cell_type": "code",
   "execution_count": null,
   "metadata": {},
   "outputs": [],
   "source": [
    "\n",
    "#Created By Ritu Raj\n",
    "\n",
    "def calToFah(c):\n",
    "    return float((c * 9/5) + 32)\n",
    "\n",
    "def fahToCal(f):\n",
    "    return float((f-32)*5/9)\n",
    "\n",
    "\n",
    "c = int(input(\"enter cel: \"))\n",
    "fah = calToFah(c)\n",
    "f = int(input(\"enter fah: \"))\n",
    "cel = fahToCal(f)\n",
    "print(f\"cel is {cel} and fah is -{fah}\")\n",
    "print(\"cel is\"+ str(cel) + \"and fah is - \"+ str(fah))\n",
    "\n",
    "print(\"cel is {} and fah is - {}\".format(cel, fah))\n",
    "\n",
    "\n",
    "import random\n",
    "\n",
    "def guess_number():\n",
    "    rand_num = random.randint(1, 9)\n",
    "    print(\" chosen one is {}\".format(rand_num))\n",
    "\n",
    "    print(\"guess number bet 1 to 9\")\n",
    "\n",
    "    guess = None\n",
    "\n",
    "    while guess != rand_num:\n",
    "        guess = int(input('guess number again '))\n",
    "\n",
    "        if guess < rand_num:\n",
    "            print('it is greator whatever you have guessed')\n",
    "        elif guess > rand_num:\n",
    "            print('it is lesser whatever you have guessed')\n",
    "        else:\n",
    "            print('you guessed it correctly ')\n",
    "\n",
    "guess_number()\n",
    "        \n",
    "\n",
    "def pyra(height):\n",
    "    for i in range(height):\n",
    "        for j in range(height-i-1):\n",
    "            print(\" \", end=\"\")\n",
    "\n",
    "        for k in range(2*i+1):\n",
    "            print(\"a\", end=\"\")\n",
    "        print()\n",
    "\n",
    "pyra(10)\n",
    "\n",
    "st=\"\"\n",
    "while True:\n",
    "    inp = input(\"enter char or spaces to eliminate :-- \")\n",
    "    if inp in [' ', '   ', '___', \"_\", \"#\"]:\n",
    "        break\n",
    "    else:\n",
    "        st+=inp + \", \"\n",
    "print(st)\n",
    "\n",
    "\n",
    "# whether the string is integer or not\n",
    "\n",
    "str_value = \"23\"\n",
    "\n",
    "if str_value.isdigit():\n",
    "    print(\"this is numerical value (int, float)\")\n",
    "else:\n",
    "    print('this one is string')\n",
    "\n",
    "v = list(str_value)\n",
    "print(v)\n",
    "\n",
    "digits = [0,1,2,3, 4, 5, 6, 7,8,9]\n",
    "for i  in v:\n",
    "    if int(i) in digits:\n",
    "        print('digits are there')\n",
    "        break\n",
    "    else:\n",
    "        print('str')\n",
    "\n",
    "# regex \n",
    "\n",
    "import re \n",
    "\n",
    "regex = '^[0-9]+$'\n",
    "print(re.search(regex,str_value ))\n",
    "\n",
    "\n",
    "\n",
    "value = ['1', '2', 'asasa', 4, 5]\n",
    "count = 0 \n",
    "for i in value:\n",
    "    if str(i).isdigit():\n",
    "        count +=1\n",
    "print(count)"
   ]
  },
  {
   "cell_type": "markdown",
   "metadata": {},
   "source": [
    "# finding missing numbers"
   ]
  },
  {
   "cell_type": "code",
   "execution_count": 1,
   "metadata": {},
   "outputs": [
    {
     "name": "stdout",
     "output_type": "stream",
     "text": [
      "5\n"
     ]
    }
   ],
   "source": [
    "value  = [1,2, 3, 4, 6]\n",
    "\n",
    "def missing_number(arr, n):\n",
    "    return (n*(n+1))//2 - sum(arr)\n",
    "\n",
    "print(missing_number(value, max(value)))"
   ]
  },
  {
   "cell_type": "markdown",
   "metadata": {},
   "source": [
    "# pairs and two sum"
   ]
  },
  {
   "cell_type": "code",
   "execution_count": 1,
   "metadata": {},
   "outputs": [
    {
     "name": "stdout",
     "output_type": "stream",
     "text": [
      "0 1\n"
     ]
    }
   ],
   "source": [
    "# naive solution\n",
    "nums = [2, 7, 11, 15]\n",
    "target = 9\n",
    "\n",
    "def two_sum(arr, target):\n",
    "    for i in range(len(arr)):\n",
    "        for j in range(i+1, len(arr)):\n",
    "            if arr[i]+arr[j] == target:\n",
    "                print(i,j)\n",
    "\n",
    "two_sum(nums, target)"
   ]
  },
  {
   "cell_type": "code",
   "execution_count": 1,
   "metadata": {},
   "outputs": [
    {
     "name": "stdout",
     "output_type": "stream",
     "text": [
      "Indices of the two numbers are: [0, 1]\n"
     ]
    }
   ],
   "source": [
    "#efficient solution\n",
    "def two_sum(nums, target):\n",
    "    seen = {}\n",
    "    \n",
    "    for i, num in enumerate(nums):\n",
    "        complement = target - num\n",
    "        \n",
    "        if complement in seen:\n",
    "            return [seen[complement], i]\n",
    "        \n",
    "        seen[num] = i\n",
    " \n",
    "nums = [2, 7, 11, 15]\n",
    "target = 9\n",
    "indices = two_sum(nums, target)\n",
    "print(f\"Indices of the two numbers are: {indices}\")"
   ]
  },
  {
   "cell_type": "code",
   "execution_count": null,
   "metadata": {},
   "outputs": [],
   "source": []
  }
 ],
 "metadata": {
  "kernelspec": {
   "display_name": "Python 3",
   "language": "python",
   "name": "python3"
  },
  "language_info": {
   "codemirror_mode": {
    "name": "ipython",
    "version": 3
   },
   "file_extension": ".py",
   "mimetype": "text/x-python",
   "name": "python",
   "nbconvert_exporter": "python",
   "pygments_lexer": "ipython3",
   "version": "3.10.12"
  }
 },
 "nbformat": 4,
 "nbformat_minor": 2
}
