{
 "cells": [
  {
   "cell_type": "code",
   "execution_count": null,
   "metadata": {},
   "outputs": [],
   "source": [
    "\n",
    "#Created By Ritu Raj\n",
    "\n",
    "def calToFah(c):\n",
    "    return float((c * 9/5) + 32)\n",
    "\n",
    "def fahToCal(f):\n",
    "    return float((f-32)*5/9)\n",
    "\n",
    "\n",
    "c = int(input(\"enter cel: \"))\n",
    "fah = calToFah(c)\n",
    "f = int(input(\"enter fah: \"))\n",
    "cel = fahToCal(f)\n",
    "print(f\"cel is {cel} and fah is -{fah}\")\n",
    "print(\"cel is\"+ str(cel) + \"and fah is - \"+ str(fah))\n",
    "\n",
    "print(\"cel is {} and fah is - {}\".format(cel, fah))\n",
    "\n",
    "\n",
    "import random\n",
    "\n",
    "def guess_number():\n",
    "    rand_num = random.randint(1, 9)\n",
    "    print(\" chosen one is {}\".format(rand_num))\n",
    "\n",
    "    print(\"guess number bet 1 to 9\")\n",
    "\n",
    "    guess = None\n",
    "\n",
    "    while guess != rand_num:\n",
    "        guess = int(input('guess number again '))\n",
    "\n",
    "        if guess < rand_num:\n",
    "            print('it is greator whatever you have guessed')\n",
    "        elif guess > rand_num:\n",
    "            print('it is lesser whatever you have guessed')\n",
    "        else:\n",
    "            print('you guessed it correctly ')\n",
    "\n",
    "guess_number()\n",
    "        \n",
    "\n",
    "def pyra(height):\n",
    "    for i in range(height):\n",
    "        for j in range(height-i-1):\n",
    "            print(\" \", end=\"\")\n",
    "\n",
    "        for k in range(2*i+1):\n",
    "            print(\"a\", end=\"\")\n",
    "        print()\n",
    "\n",
    "pyra(10)\n",
    "\n",
    "st=\"\"\n",
    "while True:\n",
    "    inp = input(\"enter char or spaces to eliminate :-- \")\n",
    "    if inp in [' ', '   ', '___', \"_\", \"#\"]:\n",
    "        break\n",
    "    else:\n",
    "        st+=inp + \", \"\n",
    "print(st)\n",
    "\n",
    "\n",
    "# whether the string is integer or not\n",
    "\n",
    "str_value = \"23\"\n",
    "\n",
    "if str_value.isdigit():\n",
    "    print(\"this is numerical value (int, float)\")\n",
    "else:\n",
    "    print('this one is string')\n",
    "\n",
    "v = list(str_value)\n",
    "print(v)\n",
    "\n",
    "digits = [0,1,2,3, 4, 5, 6, 7,8,9]\n",
    "for i  in v:\n",
    "    if int(i) in digits:\n",
    "        print('digits are there')\n",
    "        break\n",
    "    else:\n",
    "        print('str')\n",
    "\n",
    "# regex \n",
    "\n",
    "import re \n",
    "\n",
    "regex = '^[0-9]+$'\n",
    "print(re.search(regex,str_value ))\n",
    "\n",
    "\n",
    "\n",
    "value = ['1', '2', 'asasa', 4, 5]\n",
    "count = 0 \n",
    "for i in value:\n",
    "    if str(i).isdigit():\n",
    "        count +=1\n",
    "print(count)"
   ]
  },
  {
   "cell_type": "markdown",
   "metadata": {},
   "source": [
    "# finding missing numbers"
   ]
  },
  {
   "cell_type": "code",
   "execution_count": 1,
   "metadata": {},
   "outputs": [
    {
     "name": "stdout",
     "output_type": "stream",
     "text": [
      "5\n"
     ]
    }
   ],
   "source": [
    "value  = [1,2, 3, 4, 6]\n",
    "\n",
    "def missing_number(arr, n):\n",
    "    return (n*(n+1))//2 - sum(arr)\n",
    "\n",
    "print(missing_number(value, max(value)))\n",
    "# 6*(6+1)/2  == 21-16 , "
   ]
  },
  {
   "cell_type": "code",
   "execution_count": 3,
   "metadata": {},
   "outputs": [
    {
     "name": "stdout",
     "output_type": "stream",
     "text": [
      "[3, 5]\n"
     ]
    }
   ],
   "source": [
    "# value  = [1,2,4,6, 7]\n",
    "# max_value = max(value)\n",
    "# v=[]\n",
    "# for i in range(1, max_value+1):\n",
    "#     if i not in value:\n",
    "#         v.append(i)\n",
    "# print(v)\n",
    "\n",
    "# o(n)"
   ]
  },
  {
   "cell_type": "markdown",
   "metadata": {},
   "source": [
    "# pairs and two sum"
   ]
  },
  {
   "cell_type": "code",
   "execution_count": 1,
   "metadata": {},
   "outputs": [
    {
     "name": "stdout",
     "output_type": "stream",
     "text": [
      "<class 'array.array'>\n"
     ]
    }
   ],
   "source": [
    "import array\n",
    "nums = array.array('i', [2, 7, 11, 15])\n",
    "print(type(nums))"
   ]
  },
  {
   "cell_type": "code",
   "execution_count": 5,
   "metadata": {},
   "outputs": [
    {
     "name": "stdout",
     "output_type": "stream",
     "text": [
      "1 2\n"
     ]
    }
   ],
   "source": [
    "# naive solution ;-- n*m\n",
    "nums = [2, 7, 11, 15] # pair  7+2 ==9, 18 = 7+11\n",
    "target = 18\n",
    "\n",
    "def two_sum(arr, target):\n",
    "    for i in range(len(arr)):\n",
    "        for j in range(i+1, len(arr)):\n",
    "            if arr[i]+arr[j] == target:\n",
    "                print(i,j)\n",
    "\n",
    "two_sum(nums, target)"
   ]
  },
  {
   "cell_type": "code",
   "execution_count": 2,
   "metadata": {},
   "outputs": [
    {
     "name": "stdout",
     "output_type": "stream",
     "text": [
      "Indices of the two numbers are: [1, 2]\n"
     ]
    }
   ],
   "source": [
    "#efficient solution -- O(n)\n",
    "def two_sum(nums, target):\n",
    "    seen = {}\n",
    "    \n",
    "    for i, num in enumerate(nums):\n",
    "        complement = target - num\n",
    "        \n",
    "        if complement in seen:\n",
    "            return [seen[complement], i]\n",
    "        \n",
    "        seen[num] = i\n",
    " \n",
    "nums = [2, 7, 11, 15]\n",
    "target = 18\n",
    "indices = two_sum(nums, target)\n",
    "print(f\"Indices of the two numbers are: {indices}\")"
   ]
  },
  {
   "cell_type": "code",
   "execution_count": 7,
   "metadata": {},
   "outputs": [
    {
     "name": "stdout",
     "output_type": "stream",
     "text": [
      "4\n"
     ]
    }
   ],
   "source": [
    "data = [[[1, 2], [3, 4]], [[5, 6], [7, 8]]]\n",
    "def fun(m):\n",
    "    v = m[0][0]\n",
    "    for row in m:\n",
    "        for element in row:\n",
    "            if v < element: \n",
    "                v = element\n",
    "\n",
    "    return v\n",
    "print(fun(data[0]))"
   ]
  },
  {
   "cell_type": "code",
   "execution_count": 8,
   "metadata": {},
   "outputs": [
    {
     "data": {
      "text/plain": [
       "[4, 3, 2]"
      ]
     },
     "execution_count": 8,
     "metadata": {},
     "output_type": "execute_result"
    }
   ],
   "source": [
    "a = [1,2,3,4,5]\n",
    "a[3:0:-1]"
   ]
  },
  {
   "cell_type": "code",
   "execution_count": 12,
   "metadata": {},
   "outputs": [
    {
     "name": "stdout",
     "output_type": "stream",
     "text": [
      "198\n"
     ]
    }
   ],
   "source": [
    "# Question 1 - Sum of Digits  --- 1234, [1,2,3,4],  \n",
    "\n",
    "\n",
    "# v = 12346789\n",
    "# value = str(v)\n",
    "\n",
    "value = [1,2,3,4, 90, 98]\n",
    "sum_total = 0\n",
    "for i in value:\n",
    "    sum_total = sum_total+int(i)\n",
    "\n",
    "print(sum_total)\n"
   ]
  },
  {
   "cell_type": "code",
   "execution_count": 19,
   "metadata": {},
   "outputs": [
    {
     "name": "stdout",
     "output_type": "stream",
     "text": [
      "5\n"
     ]
    }
   ],
   "source": [
    "list_v =[1,90, 23,8, 5, 34]\n",
    "target = 34\n",
    "# ans:== 3\n",
    "# what is the index of target value in list\n",
    "\n",
    "# print(list_v.index(target))\n",
    "\n",
    "# for i in range(len(list_v)):\n",
    "#     if list_v[i] == target:\n",
    "#         print(i)\n",
    "\n",
    "# for i, num in enumerate(list_v):\n",
    "#     if num == target:\n",
    "#         print(i)\n",
    "\n",
    "# for i in list_v:\n",
    "#     if i == target:\n",
    "#         print(list_v.index(i))\n"
   ]
  },
  {
   "cell_type": "code",
   "execution_count": 20,
   "metadata": {},
   "outputs": [
    {
     "name": "stdout",
     "output_type": "stream",
     "text": [
      "[1, 2, 3, 4, 5]\n"
     ]
    }
   ],
   "source": [
    "my_list = [1, 1, 2, 2, 3, 4, 5]\n",
    "# out = [1,2,3,4,5]\n",
    "\n",
    "new_list = []\n",
    "for i in my_list:\n",
    "    if i not in new_list:\n",
    "        new_list.append(i)\n",
    "\n",
    "print(new_list)\n"
   ]
  },
  {
   "cell_type": "code",
   "execution_count": 21,
   "metadata": {},
   "outputs": [
    {
     "name": "stdout",
     "output_type": "stream",
     "text": [
      "[1, 3, 1, 4, 5]\n"
     ]
    }
   ],
   "source": [
    "v= [1,2,3,4,5]\n",
    "v[1:3] = [3,1]\n",
    "print(v)"
   ]
  },
  {
   "cell_type": "code",
   "execution_count": 7,
   "metadata": {},
   "outputs": [
    {
     "name": "stdout",
     "output_type": "stream",
     "text": [
      "2\n",
      "0\n",
      "*\n",
      "3\n",
      "1\n",
      "*\n",
      "4\n",
      "2\n",
      "*\n",
      "5\n",
      "3\n",
      "*\n",
      "6\n",
      "4\n",
      "*\n",
      "[2, 3, 4, 5, 6, 6]\n"
     ]
    }
   ],
   "source": [
    "# arr = [2, 3, 4, 5, 6, 6]\n",
    "# for i in range(1, 6):\n",
    "#     print(arr[i])\n",
    "#     print(i-1)\n",
    "#     print('*')\n",
    "#     arr[i - 1] = arr[i]\n",
    "\n",
    "# print(arr)\n",
    "# for i in range(0, 6): \n",
    "#     print(arr[i], end = \" \")"
   ]
  },
  {
   "cell_type": "code",
   "execution_count": 6,
   "metadata": {},
   "outputs": [
    {
     "data": {
      "text/plain": [
       "6"
      ]
     },
     "execution_count": 6,
     "metadata": {},
     "output_type": "execute_result"
    }
   ],
   "source": []
  },
  {
   "cell_type": "code",
   "execution_count": 2,
   "metadata": {},
   "outputs": [
    {
     "name": "stdout",
     "output_type": "stream",
     "text": [
      "{'sahasra': 21, 'sindhu': 24, 'trixie': 3}\n"
     ]
    }
   ],
   "source": [
    "list1 = ['sahasra','sindhu','trixie']\n",
    "list2 = [21,24,3]\n",
    "dicti = dict(zip(list1,list2))\n",
    "print(dicti)"
   ]
  },
  {
   "cell_type": "code",
   "execution_count": 6,
   "metadata": {},
   "outputs": [
    {
     "data": {
      "text/plain": [
       "[('sahasra', 21), ('sindhu', 24), ('trixie', 3)]"
      ]
     },
     "execution_count": 6,
     "metadata": {},
     "output_type": "execute_result"
    }
   ],
   "source": [
    "list(zip(list1,list2))"
   ]
  },
  {
   "cell_type": "code",
   "execution_count": 3,
   "metadata": {},
   "outputs": [
    {
     "data": {
      "text/plain": [
       "{'sahasra': 21, 'sindhu': 24, 'trixie': 3}"
      ]
     },
     "execution_count": 3,
     "metadata": {},
     "output_type": "execute_result"
    }
   ],
   "source": [
    "dict([('sahasra', 21), ('sindhu', 24), ('trixie', 3)])"
   ]
  },
  {
   "cell_type": "code",
   "execution_count": 4,
   "metadata": {},
   "outputs": [
    {
     "name": "stdout",
     "output_type": "stream",
     "text": [
      "{'sahasra': 21, 'sindhu': 24, 'trixie': 3}\n"
     ]
    }
   ],
   "source": [
    "list1 = ['sahasra','sindhu','trixie']\n",
    "list2 = [21,24,3]\n",
    "\n",
    "res = {list1[i]:list2[i] for i in range(len(list1))}\n",
    "print(res)"
   ]
  },
  {
   "cell_type": "code",
   "execution_count": 6,
   "metadata": {},
   "outputs": [
    {
     "name": "stdout",
     "output_type": "stream",
     "text": [
      "{'o': 2, 't': 1, 'l': 1, 'd': 1, 's': 2, 'c': 1, 'e': 6}\n"
     ]
    }
   ],
   "source": [
    "str_value = \"leetss coodeeee \"\n",
    "value_dic = {i:str_value.count(i) for i in set(str_value.replace(' ', \"\"))}\n",
    "print(value_dic)"
   ]
  }
 ],
 "metadata": {
  "kernelspec": {
   "display_name": "Python 3",
   "language": "python",
   "name": "python3"
  },
  "language_info": {
   "codemirror_mode": {
    "name": "ipython",
    "version": 3
   },
   "file_extension": ".py",
   "mimetype": "text/x-python",
   "name": "python",
   "nbconvert_exporter": "python",
   "pygments_lexer": "ipython3",
   "version": "3.10.12"
  }
 },
 "nbformat": 4,
 "nbformat_minor": 2
}
